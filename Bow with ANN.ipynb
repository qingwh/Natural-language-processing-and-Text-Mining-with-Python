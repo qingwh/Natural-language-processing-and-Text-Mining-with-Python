{
 "cells": [
  {
   "cell_type": "code",
   "execution_count": 34,
   "metadata": {
    "collapsed": true
   },
   "outputs": [],
   "source": [
    "# Import necessary modules\n",
    "import logging\n",
    "import pandas as pd\n",
    "import numpy as np\n",
    "from numpy import random\n",
    "import nltk\n",
    "from sklearn.model_selection import train_test_split\n",
    "import matplotlib.pyplot as plt\n",
    "from nltk.corpus import stopwords\n",
    "import re"
   ]
  },
  {
   "cell_type": "code",
   "execution_count": 35,
   "metadata": {
    "collapsed": true
   },
   "outputs": [],
   "source": [
    "# Import data \n",
    "\n",
    "# Read the CSV file into a DataFrame: df\n",
    "df = pd.read_csv('Amazon_Unlocked_Mobile.csv',encoding=\"latin-1\")"
   ]
  },
  {
   "cell_type": "code",
   "execution_count": 36,
   "metadata": {},
   "outputs": [
    {
     "data": {
      "text/html": [
       "<div>\n",
       "<style scoped>\n",
       "    .dataframe tbody tr th:only-of-type {\n",
       "        vertical-align: middle;\n",
       "    }\n",
       "\n",
       "    .dataframe tbody tr th {\n",
       "        vertical-align: top;\n",
       "    }\n",
       "\n",
       "    .dataframe thead th {\n",
       "        text-align: right;\n",
       "    }\n",
       "</style>\n",
       "<table border=\"1\" class=\"dataframe\">\n",
       "  <thead>\n",
       "    <tr style=\"text-align: right;\">\n",
       "      <th></th>\n",
       "      <th>Product Name</th>\n",
       "      <th>Brand Name</th>\n",
       "      <th>Price</th>\n",
       "      <th>Rating</th>\n",
       "      <th>Reviews</th>\n",
       "      <th>Review Votes</th>\n",
       "    </tr>\n",
       "  </thead>\n",
       "  <tbody>\n",
       "    <tr>\n",
       "      <th>0</th>\n",
       "      <td>\"CLEAR CLEAN ESN\" Sprint EPIC 4G Galaxy SPH-D7...</td>\n",
       "      <td>Samsung</td>\n",
       "      <td>199.99</td>\n",
       "      <td>5</td>\n",
       "      <td>I feel so LUCKY to have found this used (phone...</td>\n",
       "      <td>1.0</td>\n",
       "    </tr>\n",
       "    <tr>\n",
       "      <th>1</th>\n",
       "      <td>\"CLEAR CLEAN ESN\" Sprint EPIC 4G Galaxy SPH-D7...</td>\n",
       "      <td>Samsung</td>\n",
       "      <td>199.99</td>\n",
       "      <td>4</td>\n",
       "      <td>nice phone, nice up grade from my pantach revu...</td>\n",
       "      <td>0.0</td>\n",
       "    </tr>\n",
       "    <tr>\n",
       "      <th>2</th>\n",
       "      <td>\"CLEAR CLEAN ESN\" Sprint EPIC 4G Galaxy SPH-D7...</td>\n",
       "      <td>Samsung</td>\n",
       "      <td>199.99</td>\n",
       "      <td>5</td>\n",
       "      <td>Very pleased</td>\n",
       "      <td>0.0</td>\n",
       "    </tr>\n",
       "    <tr>\n",
       "      <th>3</th>\n",
       "      <td>\"CLEAR CLEAN ESN\" Sprint EPIC 4G Galaxy SPH-D7...</td>\n",
       "      <td>Samsung</td>\n",
       "      <td>199.99</td>\n",
       "      <td>4</td>\n",
       "      <td>It works good but it goes slow sometimes but i...</td>\n",
       "      <td>0.0</td>\n",
       "    </tr>\n",
       "    <tr>\n",
       "      <th>4</th>\n",
       "      <td>\"CLEAR CLEAN ESN\" Sprint EPIC 4G Galaxy SPH-D7...</td>\n",
       "      <td>Samsung</td>\n",
       "      <td>199.99</td>\n",
       "      <td>4</td>\n",
       "      <td>Great phone to replace my lost phone. The only...</td>\n",
       "      <td>0.0</td>\n",
       "    </tr>\n",
       "    <tr>\n",
       "      <th>5</th>\n",
       "      <td>\"CLEAR CLEAN ESN\" Sprint EPIC 4G Galaxy SPH-D7...</td>\n",
       "      <td>Samsung</td>\n",
       "      <td>199.99</td>\n",
       "      <td>1</td>\n",
       "      <td>I already had a phone with problems... I know ...</td>\n",
       "      <td>1.0</td>\n",
       "    </tr>\n",
       "    <tr>\n",
       "      <th>6</th>\n",
       "      <td>\"CLEAR CLEAN ESN\" Sprint EPIC 4G Galaxy SPH-D7...</td>\n",
       "      <td>Samsung</td>\n",
       "      <td>199.99</td>\n",
       "      <td>2</td>\n",
       "      <td>The charging port was loose. I got that solder...</td>\n",
       "      <td>0.0</td>\n",
       "    </tr>\n",
       "    <tr>\n",
       "      <th>7</th>\n",
       "      <td>\"CLEAR CLEAN ESN\" Sprint EPIC 4G Galaxy SPH-D7...</td>\n",
       "      <td>Samsung</td>\n",
       "      <td>199.99</td>\n",
       "      <td>2</td>\n",
       "      <td>Phone looks good but wouldn't stay charged, ha...</td>\n",
       "      <td>0.0</td>\n",
       "    </tr>\n",
       "    <tr>\n",
       "      <th>8</th>\n",
       "      <td>\"CLEAR CLEAN ESN\" Sprint EPIC 4G Galaxy SPH-D7...</td>\n",
       "      <td>Samsung</td>\n",
       "      <td>199.99</td>\n",
       "      <td>5</td>\n",
       "      <td>I originally was using the Samsung S2 Galaxy f...</td>\n",
       "      <td>0.0</td>\n",
       "    </tr>\n",
       "    <tr>\n",
       "      <th>9</th>\n",
       "      <td>\"CLEAR CLEAN ESN\" Sprint EPIC 4G Galaxy SPH-D7...</td>\n",
       "      <td>Samsung</td>\n",
       "      <td>199.99</td>\n",
       "      <td>3</td>\n",
       "      <td>It's battery life is great. It's very responsi...</td>\n",
       "      <td>0.0</td>\n",
       "    </tr>\n",
       "  </tbody>\n",
       "</table>\n",
       "</div>"
      ],
      "text/plain": [
       "                                        Product Name Brand Name   Price  \\\n",
       "0  \"CLEAR CLEAN ESN\" Sprint EPIC 4G Galaxy SPH-D7...    Samsung  199.99   \n",
       "1  \"CLEAR CLEAN ESN\" Sprint EPIC 4G Galaxy SPH-D7...    Samsung  199.99   \n",
       "2  \"CLEAR CLEAN ESN\" Sprint EPIC 4G Galaxy SPH-D7...    Samsung  199.99   \n",
       "3  \"CLEAR CLEAN ESN\" Sprint EPIC 4G Galaxy SPH-D7...    Samsung  199.99   \n",
       "4  \"CLEAR CLEAN ESN\" Sprint EPIC 4G Galaxy SPH-D7...    Samsung  199.99   \n",
       "5  \"CLEAR CLEAN ESN\" Sprint EPIC 4G Galaxy SPH-D7...    Samsung  199.99   \n",
       "6  \"CLEAR CLEAN ESN\" Sprint EPIC 4G Galaxy SPH-D7...    Samsung  199.99   \n",
       "7  \"CLEAR CLEAN ESN\" Sprint EPIC 4G Galaxy SPH-D7...    Samsung  199.99   \n",
       "8  \"CLEAR CLEAN ESN\" Sprint EPIC 4G Galaxy SPH-D7...    Samsung  199.99   \n",
       "9  \"CLEAR CLEAN ESN\" Sprint EPIC 4G Galaxy SPH-D7...    Samsung  199.99   \n",
       "\n",
       "   Rating                                            Reviews  Review Votes  \n",
       "0       5  I feel so LUCKY to have found this used (phone...           1.0  \n",
       "1       4  nice phone, nice up grade from my pantach revu...           0.0  \n",
       "2       5                                       Very pleased           0.0  \n",
       "3       4  It works good but it goes slow sometimes but i...           0.0  \n",
       "4       4  Great phone to replace my lost phone. The only...           0.0  \n",
       "5       1  I already had a phone with problems... I know ...           1.0  \n",
       "6       2  The charging port was loose. I got that solder...           0.0  \n",
       "7       2  Phone looks good but wouldn't stay charged, ha...           0.0  \n",
       "8       5  I originally was using the Samsung S2 Galaxy f...           0.0  \n",
       "9       3  It's battery life is great. It's very responsi...           0.0  "
      ]
     },
     "execution_count": 36,
     "metadata": {},
     "output_type": "execute_result"
    }
   ],
   "source": [
    "df = df[pd.notnull(df['Reviews'])]\n",
    "df.head(10)"
   ]
  },
  {
   "cell_type": "code",
   "execution_count": 37,
   "metadata": {
    "collapsed": true
   },
   "outputs": [],
   "source": [
    "STOPWORDS = set(stopwords.words('english'))\n",
    "def clean_text(text):\n",
    "    text = text.lower() # lowercase text\n",
    "    text = re.sub(r'[/(){}\\[\\]\\|@,;.]',' ', text) \n",
    "    text = re.sub(r'[^0-9a-z #+_]','', text) \n",
    "    text = ' '.join(word for word in text.split() if word not in STOPWORDS) \n",
    "    return text"
   ]
  },
  {
   "cell_type": "code",
   "execution_count": 38,
   "metadata": {
    "collapsed": true
   },
   "outputs": [],
   "source": [
    "df['Reviews'] = df['Reviews'].apply(clean_text)"
   ]
  },
  {
   "cell_type": "code",
   "execution_count": 39,
   "metadata": {},
   "outputs": [
    {
     "data": {
      "text/html": [
       "<div>\n",
       "<style scoped>\n",
       "    .dataframe tbody tr th:only-of-type {\n",
       "        vertical-align: middle;\n",
       "    }\n",
       "\n",
       "    .dataframe tbody tr th {\n",
       "        vertical-align: top;\n",
       "    }\n",
       "\n",
       "    .dataframe thead th {\n",
       "        text-align: right;\n",
       "    }\n",
       "</style>\n",
       "<table border=\"1\" class=\"dataframe\">\n",
       "  <thead>\n",
       "    <tr style=\"text-align: right;\">\n",
       "      <th></th>\n",
       "      <th>Product Name</th>\n",
       "      <th>Brand Name</th>\n",
       "      <th>Price</th>\n",
       "      <th>Rating</th>\n",
       "      <th>Reviews</th>\n",
       "      <th>Review Votes</th>\n",
       "    </tr>\n",
       "  </thead>\n",
       "  <tbody>\n",
       "    <tr>\n",
       "      <th>0</th>\n",
       "      <td>\"CLEAR CLEAN ESN\" Sprint EPIC 4G Galaxy SPH-D7...</td>\n",
       "      <td>Samsung</td>\n",
       "      <td>199.99</td>\n",
       "      <td>5</td>\n",
       "      <td>feel lucky found used phone us used hard phone...</td>\n",
       "      <td>1.0</td>\n",
       "    </tr>\n",
       "    <tr>\n",
       "      <th>1</th>\n",
       "      <td>\"CLEAR CLEAN ESN\" Sprint EPIC 4G Galaxy SPH-D7...</td>\n",
       "      <td>Samsung</td>\n",
       "      <td>199.99</td>\n",
       "      <td>4</td>\n",
       "      <td>nice phone nice grade pantach revue clean set ...</td>\n",
       "      <td>0.0</td>\n",
       "    </tr>\n",
       "    <tr>\n",
       "      <th>2</th>\n",
       "      <td>\"CLEAR CLEAN ESN\" Sprint EPIC 4G Galaxy SPH-D7...</td>\n",
       "      <td>Samsung</td>\n",
       "      <td>199.99</td>\n",
       "      <td>5</td>\n",
       "      <td>pleased</td>\n",
       "      <td>0.0</td>\n",
       "    </tr>\n",
       "    <tr>\n",
       "      <th>3</th>\n",
       "      <td>\"CLEAR CLEAN ESN\" Sprint EPIC 4G Galaxy SPH-D7...</td>\n",
       "      <td>Samsung</td>\n",
       "      <td>199.99</td>\n",
       "      <td>4</td>\n",
       "      <td>works good goes slow sometimes good phone love</td>\n",
       "      <td>0.0</td>\n",
       "    </tr>\n",
       "    <tr>\n",
       "      <th>4</th>\n",
       "      <td>\"CLEAR CLEAN ESN\" Sprint EPIC 4G Galaxy SPH-D7...</td>\n",
       "      <td>Samsung</td>\n",
       "      <td>199.99</td>\n",
       "      <td>4</td>\n",
       "      <td>great phone replace lost phone thing volume bu...</td>\n",
       "      <td>0.0</td>\n",
       "    </tr>\n",
       "  </tbody>\n",
       "</table>\n",
       "</div>"
      ],
      "text/plain": [
       "                                        Product Name Brand Name   Price  \\\n",
       "0  \"CLEAR CLEAN ESN\" Sprint EPIC 4G Galaxy SPH-D7...    Samsung  199.99   \n",
       "1  \"CLEAR CLEAN ESN\" Sprint EPIC 4G Galaxy SPH-D7...    Samsung  199.99   \n",
       "2  \"CLEAR CLEAN ESN\" Sprint EPIC 4G Galaxy SPH-D7...    Samsung  199.99   \n",
       "3  \"CLEAR CLEAN ESN\" Sprint EPIC 4G Galaxy SPH-D7...    Samsung  199.99   \n",
       "4  \"CLEAR CLEAN ESN\" Sprint EPIC 4G Galaxy SPH-D7...    Samsung  199.99   \n",
       "\n",
       "   Rating                                            Reviews  Review Votes  \n",
       "0       5  feel lucky found used phone us used hard phone...           1.0  \n",
       "1       4  nice phone nice grade pantach revue clean set ...           0.0  \n",
       "2       5                                            pleased           0.0  \n",
       "3       4     works good goes slow sometimes good phone love           0.0  \n",
       "4       4  great phone replace lost phone thing volume bu...           0.0  "
      ]
     },
     "execution_count": 39,
     "metadata": {},
     "output_type": "execute_result"
    }
   ],
   "source": [
    "df.head()"
   ]
  },
  {
   "cell_type": "code",
   "execution_count": 40,
   "metadata": {},
   "outputs": [
    {
     "data": {
      "text/html": [
       "<div>\n",
       "<style scoped>\n",
       "    .dataframe tbody tr th:only-of-type {\n",
       "        vertical-align: middle;\n",
       "    }\n",
       "\n",
       "    .dataframe tbody tr th {\n",
       "        vertical-align: top;\n",
       "    }\n",
       "\n",
       "    .dataframe thead th {\n",
       "        text-align: right;\n",
       "    }\n",
       "</style>\n",
       "<table border=\"1\" class=\"dataframe\">\n",
       "  <thead>\n",
       "    <tr style=\"text-align: right;\">\n",
       "      <th></th>\n",
       "      <th>Price</th>\n",
       "      <th>Rating</th>\n",
       "      <th>Review Votes</th>\n",
       "    </tr>\n",
       "  </thead>\n",
       "  <tbody>\n",
       "    <tr>\n",
       "      <th>count</th>\n",
       "      <td>407848.000000</td>\n",
       "      <td>413778.000000</td>\n",
       "      <td>401482.000000</td>\n",
       "    </tr>\n",
       "    <tr>\n",
       "      <th>mean</th>\n",
       "      <td>226.867148</td>\n",
       "      <td>3.819609</td>\n",
       "      <td>1.506155</td>\n",
       "    </tr>\n",
       "    <tr>\n",
       "      <th>std</th>\n",
       "      <td>273.019444</td>\n",
       "      <td>1.548212</td>\n",
       "      <td>9.162444</td>\n",
       "    </tr>\n",
       "    <tr>\n",
       "      <th>min</th>\n",
       "      <td>1.730000</td>\n",
       "      <td>1.000000</td>\n",
       "      <td>0.000000</td>\n",
       "    </tr>\n",
       "    <tr>\n",
       "      <th>25%</th>\n",
       "      <td>79.990000</td>\n",
       "      <td>3.000000</td>\n",
       "      <td>0.000000</td>\n",
       "    </tr>\n",
       "    <tr>\n",
       "      <th>50%</th>\n",
       "      <td>144.710000</td>\n",
       "      <td>5.000000</td>\n",
       "      <td>0.000000</td>\n",
       "    </tr>\n",
       "    <tr>\n",
       "      <th>75%</th>\n",
       "      <td>269.990000</td>\n",
       "      <td>5.000000</td>\n",
       "      <td>1.000000</td>\n",
       "    </tr>\n",
       "    <tr>\n",
       "      <th>max</th>\n",
       "      <td>2598.000000</td>\n",
       "      <td>5.000000</td>\n",
       "      <td>645.000000</td>\n",
       "    </tr>\n",
       "  </tbody>\n",
       "</table>\n",
       "</div>"
      ],
      "text/plain": [
       "               Price         Rating   Review Votes\n",
       "count  407848.000000  413778.000000  401482.000000\n",
       "mean      226.867148       3.819609       1.506155\n",
       "std       273.019444       1.548212       9.162444\n",
       "min         1.730000       1.000000       0.000000\n",
       "25%        79.990000       3.000000       0.000000\n",
       "50%       144.710000       5.000000       0.000000\n",
       "75%       269.990000       5.000000       1.000000\n",
       "max      2598.000000       5.000000     645.000000"
      ]
     },
     "execution_count": 40,
     "metadata": {},
     "output_type": "execute_result"
    }
   ],
   "source": [
    "df.describe()"
   ]
  },
  {
   "cell_type": "code",
   "execution_count": 41,
   "metadata": {},
   "outputs": [
    {
     "data": {
      "text/plain": [
       "2780"
      ]
     },
     "execution_count": 41,
     "metadata": {},
     "output_type": "execute_result"
    }
   ],
   "source": [
    "maxLen = len(max(df['Reviews'], key=len).split())\n",
    "maxLen"
   ]
  },
  {
   "cell_type": "code",
   "execution_count": 42,
   "metadata": {},
   "outputs": [
    {
     "data": {
      "text/plain": [
       "413778"
      ]
     },
     "execution_count": 42,
     "metadata": {},
     "output_type": "execute_result"
    }
   ],
   "source": [
    "df.shape[0] "
   ]
  },
  {
   "cell_type": "code",
   "execution_count": 43,
   "metadata": {
    "collapsed": true
   },
   "outputs": [],
   "source": [
    "train, test = train_test_split(df, test_size=0.3, random_state = 42)"
   ]
  },
  {
   "cell_type": "code",
   "execution_count": 44,
   "metadata": {
    "collapsed": true
   },
   "outputs": [],
   "source": [
    "train_X = train['Reviews'] \n",
    "\n",
    "test_X = test['Reviews']  "
   ]
  },
  {
   "cell_type": "code",
   "execution_count": 45,
   "metadata": {
    "collapsed": true
   },
   "outputs": [],
   "source": [
    "from keras.models import Sequential\n",
    "from keras.layers import Dense, Activation, Dropout\n",
    "from keras.preprocessing import text, sequence\n",
    "from keras import utils"
   ]
  },
  {
   "cell_type": "code",
   "execution_count": 46,
   "metadata": {
    "collapsed": true
   },
   "outputs": [],
   "source": [
    "max_words = 1000\n",
    "tokenize = text.Tokenizer(num_words=max_words, char_level=False)"
   ]
  },
  {
   "cell_type": "code",
   "execution_count": 47,
   "metadata": {
    "collapsed": true
   },
   "outputs": [],
   "source": [
    "tokenize.fit_on_texts(train_X) # only fit on train\n",
    "x_train = tokenize.texts_to_matrix(train_X)\n",
    "x_test = tokenize.texts_to_matrix(test_X)"
   ]
  },
  {
   "cell_type": "code",
   "execution_count": 51,
   "metadata": {
    "collapsed": true
   },
   "outputs": [],
   "source": [
    "import warnings\n",
    "warnings.filterwarnings(\"ignore\")\n",
    "import keras\n",
    "from sklearn.preprocessing import LabelEncoder\n",
    "encoder = LabelEncoder()\n",
    "encoder.fit(train['Rating'])\n",
    "y_train = encoder.transform(train['Rating'])\n",
    "y_test = encoder.transform(test['Rating'])\n",
    "\n",
    "# convert integers to dummy variables (i.e. one hot encoded)\n",
    "y_train  = keras.utils.to_categorical(y_train, num_classes = 5)\n",
    "# convert integers to dummy variables (i.e. one hot encoded)\n",
    "y_test  = keras.utils.to_categorical(y_test, num_classes = 5)"
   ]
  },
  {
   "cell_type": "code",
   "execution_count": 52,
   "metadata": {},
   "outputs": [
    {
     "name": "stdout",
     "output_type": "stream",
     "text": [
      "x_train shape: (289644, 1000)\n",
      "x_test shape: (124134, 1000)\n",
      "y_train shape: (289644, 5)\n",
      "y_test shape: (124134, 5)\n"
     ]
    }
   ],
   "source": [
    "print('x_train shape:', x_train.shape)\n",
    "print('x_test shape:', x_test.shape)\n",
    "print('y_train shape:', y_train.shape)\n",
    "print('y_test shape:', y_test.shape)"
   ]
  },
  {
   "cell_type": "code",
   "execution_count": 53,
   "metadata": {
    "collapsed": true
   },
   "outputs": [],
   "source": [
    "batch_size = 32\n",
    "epochs = 30\n",
    "# Build the model\n",
    "model = Sequential()\n",
    "model.add(Dense(512, input_shape=(max_words,)))\n",
    "model.add(Activation('relu'))\n",
    "model.add(Dropout(0.5))\n",
    "model.add(Dense(5))\n",
    "model.add(Activation('softmax'))\n",
    "\n",
    "model.compile(loss='categorical_crossentropy',\n",
    "              optimizer='adam',\n",
    "              metrics=['accuracy'])"
   ]
  },
  {
   "cell_type": "code",
   "execution_count": 54,
   "metadata": {},
   "outputs": [
    {
     "name": "stdout",
     "output_type": "stream",
     "text": [
      "Train on 260679 samples, validate on 28965 samples\n",
      "Epoch 1/30\n",
      "260679/260679 [==============================] - 157s 601us/step - loss: 0.8046 - acc: 0.7058 - val_loss: 0.7232 - val_acc: 0.7376\n",
      "Epoch 2/30\n",
      "260679/260679 [==============================] - 148s 567us/step - loss: 0.6885 - acc: 0.7543 - val_loss: 0.6588 - val_acc: 0.7685\n",
      "Epoch 3/30\n",
      "260679/260679 [==============================] - 148s 566us/step - loss: 0.6156 - acc: 0.7840 - val_loss: 0.6259 - val_acc: 0.7864\n",
      "Epoch 4/30\n",
      "260679/260679 [==============================] - 157s 601us/step - loss: 0.5632 - acc: 0.8043 - val_loss: 0.5983 - val_acc: 0.8010\n",
      "Epoch 5/30\n",
      "260679/260679 [==============================] - 162s 622us/step - loss: 0.5243 - acc: 0.8184 - val_loss: 0.5894 - val_acc: 0.8084\n",
      "Epoch 6/30\n",
      "260679/260679 [==============================] - 149s 572us/step - loss: 0.4972 - acc: 0.8285 - val_loss: 0.5868 - val_acc: 0.8133\n",
      "Epoch 7/30\n",
      "260679/260679 [==============================] - 145s 556us/step - loss: 0.4752 - acc: 0.8369 - val_loss: 0.5872 - val_acc: 0.8182\n",
      "Epoch 8/30\n",
      "260679/260679 [==============================] - 149s 570us/step - loss: 0.4548 - acc: 0.8440 - val_loss: 0.5969 - val_acc: 0.8209\n",
      "Epoch 9/30\n",
      "260679/260679 [==============================] - 147s 562us/step - loss: 0.4403 - acc: 0.8490 - val_loss: 0.5944 - val_acc: 0.8223\n",
      "Epoch 10/30\n",
      "260679/260679 [==============================] - 149s 570us/step - loss: 0.4271 - acc: 0.8536 - val_loss: 0.5971 - val_acc: 0.8249\n",
      "Epoch 11/30\n",
      "260679/260679 [==============================] - 160s 613us/step - loss: 0.4160 - acc: 0.8586 - val_loss: 0.6047 - val_acc: 0.8286\n",
      "Epoch 12/30\n",
      "260679/260679 [==============================] - 149s 573us/step - loss: 0.4060 - acc: 0.8619 - val_loss: 0.6097 - val_acc: 0.8281\n",
      "Epoch 13/30\n",
      "260679/260679 [==============================] - 150s 575us/step - loss: 0.3958 - acc: 0.8651 - val_loss: 0.6166 - val_acc: 0.8290\n",
      "Epoch 14/30\n",
      "260679/260679 [==============================] - 151s 580us/step - loss: 0.3891 - acc: 0.8678 - val_loss: 0.6203 - val_acc: 0.8291\n",
      "Epoch 15/30\n",
      "260679/260679 [==============================] - 157s 603us/step - loss: 0.3831 - acc: 0.8701 - val_loss: 0.6285 - val_acc: 0.8324\n",
      "Epoch 16/30\n",
      "260679/260679 [==============================] - 152s 581us/step - loss: 0.3746 - acc: 0.8732 - val_loss: 0.6357 - val_acc: 0.8339\n",
      "Epoch 17/30\n",
      "260679/260679 [==============================] - 152s 582us/step - loss: 0.3694 - acc: 0.8751 - val_loss: 0.6438 - val_acc: 0.8337\n",
      "Epoch 18/30\n",
      "260679/260679 [==============================] - 157s 601us/step - loss: 0.3637 - acc: 0.8765 - val_loss: 0.6524 - val_acc: 0.8362\n",
      "Epoch 19/30\n",
      "260679/260679 [==============================] - 158s 608us/step - loss: 0.3599 - acc: 0.8790 - val_loss: 0.6595 - val_acc: 0.8356\n",
      "Epoch 20/30\n",
      "260679/260679 [==============================] - 147s 564us/step - loss: 0.3525 - acc: 0.8813 - val_loss: 0.6652 - val_acc: 0.8355\n",
      "Epoch 21/30\n",
      "260679/260679 [==============================] - 150s 577us/step - loss: 0.3512 - acc: 0.8815 - val_loss: 0.6732 - val_acc: 0.8354\n",
      "Epoch 22/30\n",
      "260679/260679 [==============================] - 153s 588us/step - loss: 0.3473 - acc: 0.8827 - val_loss: 0.6794 - val_acc: 0.8361\n",
      "Epoch 23/30\n",
      "260679/260679 [==============================] - 149s 570us/step - loss: 0.3422 - acc: 0.8847 - val_loss: 0.6868 - val_acc: 0.8355\n",
      "Epoch 24/30\n",
      "260679/260679 [==============================] - 149s 572us/step - loss: 0.3416 - acc: 0.8848 - val_loss: 0.6960 - val_acc: 0.8356\n",
      "Epoch 25/30\n",
      "260679/260679 [==============================] - 132s 506us/step - loss: 0.3353 - acc: 0.8873 - val_loss: 0.7081 - val_acc: 0.8359\n",
      "Epoch 26/30\n",
      "260679/260679 [==============================] - 126s 482us/step - loss: 0.3329 - acc: 0.8887 - val_loss: 0.7131 - val_acc: 0.8367\n",
      "Epoch 27/30\n",
      "260679/260679 [==============================] - 126s 482us/step - loss: 0.3323 - acc: 0.8886 - val_loss: 0.7205 - val_acc: 0.8369\n",
      "Epoch 28/30\n",
      "260679/260679 [==============================] - 132s 508us/step - loss: 0.3298 - acc: 0.8902 - val_loss: 0.7172 - val_acc: 0.8383\n",
      "Epoch 29/30\n",
      "260679/260679 [==============================] - 127s 489us/step - loss: 0.3255 - acc: 0.8907 - val_loss: 0.7252 - val_acc: 0.8379\n",
      "Epoch 30/30\n",
      "260679/260679 [==============================] - 125s 481us/step - loss: 0.3228 - acc: 0.8918 - val_loss: 0.7246 - val_acc: 0.8376\n"
     ]
    },
    {
     "data": {
      "text/plain": [
       "<keras.callbacks.History at 0x1a44ba85f8>"
      ]
     },
     "execution_count": 54,
     "metadata": {},
     "output_type": "execute_result"
    }
   ],
   "source": [
    "model.fit(x_train, y_train,\n",
    "                    batch_size=batch_size,\n",
    "                    epochs=epochs,\n",
    "                    verbose=1,\n",
    "                    validation_split=0.1)"
   ]
  },
  {
   "cell_type": "code",
   "execution_count": 56,
   "metadata": {},
   "outputs": [
    {
     "name": "stdout",
     "output_type": "stream",
     "text": [
      "124134/124134 [==============================] - 7s 58us/step\n",
      "Test accuracy: 0.8396652005100875\n"
     ]
    }
   ],
   "source": [
    "score = model.evaluate(x_test, y_test,\n",
    "                       batch_size=batch_size, verbose=1)\n",
    "print('Test accuracy:', score[1])"
   ]
  }
 ],
 "metadata": {
  "kernelspec": {
   "display_name": "Python 3",
   "language": "python",
   "name": "python3"
  },
  "language_info": {
   "codemirror_mode": {
    "name": "ipython",
    "version": 3
   },
   "file_extension": ".py",
   "mimetype": "text/x-python",
   "name": "python",
   "nbconvert_exporter": "python",
   "pygments_lexer": "ipython3",
   "version": "3.6.8"
  }
 },
 "nbformat": 4,
 "nbformat_minor": 2
}
